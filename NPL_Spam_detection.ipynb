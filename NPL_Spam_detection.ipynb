{
  "nbformat": 4,
  "nbformat_minor": 0,
  "metadata": {
    "colab": {
      "provenance": [],
      "authorship_tag": "ABX9TyOIDp6AP0AVC6+d1zJxNc3E",
      "include_colab_link": true
    },
    "kernelspec": {
      "name": "python3",
      "display_name": "Python 3"
    },
    "language_info": {
      "name": "python"
    }
  },
  "cells": [
    {
      "cell_type": "markdown",
      "metadata": {
        "id": "view-in-github",
        "colab_type": "text"
      },
      "source": [
        "<a href=\"https://colab.research.google.com/github/jeanraice/SPAM_DETECTION/blob/main/NPL_Spam_detection.ipynb\" target=\"_parent\"><img src=\"https://colab.research.google.com/assets/colab-badge.svg\" alt=\"Open In Colab\"/></a>"
      ]
    },
    {
      "cell_type": "markdown",
      "source": [],
      "metadata": {
        "id": "TXvz9g0mdEc_"
      }
    },
    {
      "cell_type": "markdown",
      "source": [
        "##mount the Drive. Because the dataset is on google drive"
      ],
      "metadata": {
        "id": "HkMAyXNBdHKr"
      }
    },
    {
      "cell_type": "code",
      "execution_count": null,
      "metadata": {
        "colab": {
          "base_uri": "https://localhost:8080/"
        },
        "id": "2udnCnsjYYP1",
        "outputId": "50fe3ac5-3979-4edd-e525-6229ac1190f9"
      },
      "outputs": [
        {
          "output_type": "stream",
          "name": "stdout",
          "text": [
            "Mounted at /content/drive\n"
          ]
        }
      ],
      "source": [
        "from google.colab import drive\n",
        "drive.mount('/content/drive')"
      ]
    },
    {
      "cell_type": "markdown",
      "source": [
        "##import the dataset "
      ],
      "metadata": {
        "id": "KJUKDQOYdA3q"
      }
    },
    {
      "cell_type": "code",
      "source": [
        "data_path_1 ='/content/drive/MyDrive/YouTube-Spam-Collection-v1/Youtube01-Psy.csv'\n",
        "data_path_2 = '/content/drive/MyDrive/YouTube-Spam-Collection-v1/Youtube02-KatyPerry.csv'\n",
        "data_path_3 ='/content/drive/MyDrive/YouTube-Spam-Collection-v1/Youtube03-LMFAO.csv'\n",
        "data_path_4 ='/content/drive/MyDrive/YouTube-Spam-Collection-v1/Youtube04-Eminem.csv'\n",
        "data_path_5 ='/content/drive/MyDrive/YouTube-Spam-Collection-v1/Youtube05-Shakira.csv'"
      ],
      "metadata": {
        "id": "ea-kt5FnZ5Zc"
      },
      "execution_count": null,
      "outputs": []
    },
    {
      "cell_type": "code",
      "source": [
        "import pandas as pd\n",
        "\n",
        "data_1 = pd.read_csv(data_path_1)\n",
        "data_2 = pd.read_csv(data_path_2)\n",
        "data_3 = pd.read_csv(data_path_3)\n",
        "data_4 = pd.read_csv(data_path_4)\n",
        "data_5 = pd.read_csv(data_path_5)\n",
        "\n",
        "dataset = pd.concat([data_1,data_2,data_3,data_4,data_5])\n"
      ],
      "metadata": {
        "colab": {
          "base_uri": "https://localhost:8080/"
        },
        "id": "DH_g30vxadhP",
        "outputId": "46c7101e-7a80-4a0d-b8ec-e64f08f52b16"
      },
      "execution_count": null,
      "outputs": [
        {
          "output_type": "stream",
          "name": "stdout",
          "text": [
            "<class 'pandas.core.frame.DataFrame'>\n",
            "Int64Index: 1956 entries, 0 to 369\n",
            "Data columns (total 5 columns):\n",
            " #   Column      Non-Null Count  Dtype \n",
            "---  ------      --------------  ----- \n",
            " 0   COMMENT_ID  1956 non-null   object\n",
            " 1   AUTHOR      1956 non-null   object\n",
            " 2   DATE        1711 non-null   object\n",
            " 3   CONTENT     1956 non-null   object\n",
            " 4   CLASS       1956 non-null   int64 \n",
            "dtypes: int64(1), object(4)\n",
            "memory usage: 91.7+ KB\n"
          ]
        }
      ]
    },
    {
      "cell_type": "code",
      "source": [
        "dataset.CLASS.value_counts()"
      ],
      "metadata": {
        "colab": {
          "base_uri": "https://localhost:8080/"
        },
        "id": "uGFAJWsdbb29",
        "outputId": "ac814b7f-971b-49a0-a70e-c4cd4a2e3f17"
      },
      "execution_count": null,
      "outputs": [
        {
          "output_type": "execute_result",
          "data": {
            "text/plain": [
              "1    0.513804\n",
              "0    0.486196\n",
              "Name: CLASS, dtype: float64"
            ]
          },
          "metadata": {},
          "execution_count": 13
        }
      ]
    },
    {
      "cell_type": "markdown",
      "source": [
        "##Let's split our dataset in train and test dataset "
      ],
      "metadata": {
        "id": "zP_RIzjec5Gp"
      }
    },
    {
      "cell_type": "markdown",
      "source": [],
      "metadata": {
        "id": "j5FWXhLic2xz"
      }
    },
    {
      "cell_type": "code",
      "source": [
        "from sklearn.model_selection import train_test_split\n",
        "x_train,x_test,y_train,y_test = train_test_split(\n",
        "    dataset['CONTENT'],\n",
        "    dataset['CLASS'],\n",
        "    test_size= 0.2,\n",
        "    random_state=10  ## is use for fixe our result. otherwise it will have a new result for each run\n",
        "\n",
        ")"
      ],
      "metadata": {
        "id": "9zrnax-DcHES"
      },
      "execution_count": null,
      "outputs": []
    },
    {
      "cell_type": "code",
      "source": [
        "x_train"
      ],
      "metadata": {
        "colab": {
          "base_uri": "https://localhost:8080/"
        },
        "id": "2MV44xJIggoF",
        "outputId": "a56de057-a283-40b8-d824-70d38e7c7121"
      },
      "execution_count": null,
      "outputs": [
        {
          "output_type": "execute_result",
          "data": {
            "text/plain": [
              "321            i like the lyrics but not to music video﻿\n",
              "109                                I&#39;m A SUBSCRIBER﻿\n",
              "0      <a href=\"http://www.youtube.com/watch?v=KQ6zr6...\n",
              "5                                               Shuffle﻿\n",
              "232     I really can&#39;t comprehend Miley Cyrus , s...\n",
              "                             ...                        \n",
              "255    Check out my remix to Tyga&#39;s - Molly ft. W...\n",
              "206    Rihanna is so beautiful and amazing ♥♥♥♥♥love ...\n",
              "177    https://www.facebook.com/pages/Hiphop-Express/...\n",
              "11                                       i love song :)﻿\n",
              "151    You guys should check out this EXTRAORDINARY w...\n",
              "Name: CONTENT, Length: 1564, dtype: object"
            ]
          },
          "metadata": {},
          "execution_count": 23
        }
      ]
    },
    {
      "cell_type": "code",
      "source": [
        "y_test"
      ],
      "metadata": {
        "colab": {
          "base_uri": "https://localhost:8080/"
        },
        "id": "Yx5bd4o_glFz",
        "outputId": "4ee50eab-5b29-4930-ad30-e56b938d2396"
      },
      "execution_count": null,
      "outputs": [
        {
          "output_type": "execute_result",
          "data": {
            "text/plain": [
              "27     1\n",
              "75     0\n",
              "266    1\n",
              "131    0\n",
              "274    0\n",
              "      ..\n",
              "125    0\n",
              "357    1\n",
              "218    0\n",
              "112    0\n",
              "124    0\n",
              "Name: CLASS, Length: 392, dtype: int64"
            ]
          },
          "metadata": {},
          "execution_count": 25
        }
      ]
    },
    {
      "cell_type": "markdown",
      "source": [
        "## Let's tranform our dataset in array of token which will be used by sklearn algorithms for training "
      ],
      "metadata": {
        "id": "aTnhiN7V0Tsg"
      }
    },
    {
      "cell_type": "code",
      "source": [
        "from sklearn.feature_extraction.text import CountVectorizer\n",
        "\n",
        "vectorize = CountVectorizer()\n",
        "\n",
        "x_train_vectorized = vectorize.fit_transform(x_train)\n",
        "x_test_vectorized = vectorize.transform(x_test)\n",
        "vectorize.get_feature_names_out()"
      ],
      "metadata": {
        "colab": {
          "base_uri": "https://localhost:8080/"
        },
        "id": "u8Kb16KCgo-j",
        "outputId": "34ca84a6-3641-497e-8138-56cdc11e142a"
      },
      "execution_count": null,
      "outputs": [
        {
          "output_type": "execute_result",
          "data": {
            "text/plain": [
              "array(['00', '000', '002', ..., 'ｔｈｉｓ', 'ｕｓｒ', 'ｗｗｗ'], dtype=object)"
            ]
          },
          "metadata": {},
          "execution_count": 42
        }
      ]
    },
    {
      "cell_type": "code",
      "source": [
        "from sklearn.ensemble import RandomForestClassifier\n",
        "rf_object=RandomForestClassifier(random_state=10)\n",
        "fitted = rf_object.fit(x_train_vectorized,y_train)\n"
      ],
      "metadata": {
        "id": "_Rt7lTA5kckV"
      },
      "execution_count": null,
      "outputs": []
    },
    {
      "cell_type": "markdown",
      "source": [
        "##Let's check the training report"
      ],
      "metadata": {
        "id": "re0MM_xm0Hrx"
      }
    },
    {
      "cell_type": "code",
      "source": [
        "from sklearn.metrics import classification_report\n",
        "print(classification_report(y_test,fitted.predict(x_test_vectorized)))"
      ],
      "metadata": {
        "colab": {
          "base_uri": "https://localhost:8080/"
        },
        "id": "eVR6wvcwkgTH",
        "outputId": "3f5aecea-8430-4cac-a9b5-6acab428269a"
      },
      "execution_count": null,
      "outputs": [
        {
          "output_type": "stream",
          "name": "stdout",
          "text": [
            "              precision    recall  f1-score   support\n",
            "\n",
            "           0       0.95      0.98      0.96       201\n",
            "           1       0.98      0.94      0.96       191\n",
            "\n",
            "    accuracy                           0.96       392\n",
            "   macro avg       0.96      0.96      0.96       392\n",
            "weighted avg       0.96      0.96      0.96       392\n",
            "\n"
          ]
        }
      ]
    },
    {
      "cell_type": "markdown",
      "source": [
        "##Let's use cross_val to check the mean score."
      ],
      "metadata": {
        "id": "tQ67lawrzhYF"
      }
    },
    {
      "cell_type": "code",
      "source": [
        "from sklearn.model_selection import cross_val_score\n",
        "accur =cross_val_score(fitted, x_test_vectorized,y_test,cv=3)\n",
        "print(accur)"
      ],
      "metadata": {
        "id": "41Ee7h2AlM1e",
        "colab": {
          "base_uri": "https://localhost:8080/"
        },
        "outputId": "896fe6a8-93dc-429d-ffd9-2189a2d99432"
      },
      "execution_count": 71,
      "outputs": [
        {
          "output_type": "stream",
          "name": "stdout",
          "text": [
            "[0.9389313  0.93129771 0.96153846]\n"
          ]
        }
      ]
    },
    {
      "cell_type": "code",
      "source": [
        "accur.mean()"
      ],
      "metadata": {
        "colab": {
          "base_uri": "https://localhost:8080/"
        },
        "id": "6FhqnQ25zcPu",
        "outputId": "b5198661-f703-441f-fe2c-cf58a3424a6b"
      },
      "execution_count": 70,
      "outputs": [
        {
          "output_type": "execute_result",
          "data": {
            "text/plain": [
              "0.9489451476793249"
            ]
          },
          "metadata": {},
          "execution_count": 70
        }
      ]
    },
    {
      "cell_type": "markdown",
      "source": [
        "##We have an average score quite close to the score obtained previously"
      ],
      "metadata": {
        "id": "IkKk7Jonzxkh"
      }
    },
    {
      "cell_type": "markdown",
      "source": [
        "##let's test our algorithm with data that we enter manually "
      ],
      "metadata": {
        "id": "tcUNSgkF1Bv_"
      }
    },
    {
      "cell_type": "code",
      "source": [
        "fitted.predict(vectorize.transform(['belle chanson']))"
      ],
      "metadata": {
        "colab": {
          "base_uri": "https://localhost:8080/"
        },
        "id": "hObxXNmr3Fui",
        "outputId": "059ef1e7-7661-4790-f48d-c58673579910"
      },
      "execution_count": 61,
      "outputs": [
        {
          "output_type": "execute_result",
          "data": {
            "text/plain": [
              "array([0])"
            ]
          },
          "metadata": {},
          "execution_count": 61
        }
      ]
    },
    {
      "cell_type": "markdown",
      "source": [
        "##Function for test manually if the comment you enter is a spam or a true comment "
      ],
      "metadata": {
        "id": "aL1BFQyZ4gGB"
      }
    },
    {
      "cell_type": "code",
      "source": [
        "def manually_test(comment):\n",
        "  \n",
        "  if fitted.predict(vectorize.transform([comment])) == 0:\n",
        "      print(\"c'est un commentaire\")\n",
        "  else :\n",
        "      print(\"c'est un Spam\")\n",
        "   "
      ],
      "metadata": {
        "id": "iLcovLF71gRk"
      },
      "execution_count": 67,
      "outputs": []
    },
    {
      "cell_type": "code",
      "source": [
        "manually_test('belle chanson')"
      ],
      "metadata": {
        "colab": {
          "base_uri": "https://localhost:8080/"
        },
        "id": "pVUXRdIu4Ky2",
        "outputId": "e151f8c0-2d9c-4b45-b300-d421ab73524e"
      },
      "execution_count": 68,
      "outputs": [
        {
          "output_type": "stream",
          "name": "stdout",
          "text": [
            "c'est un commentaire\n"
          ]
        }
      ]
    }
  ]
}